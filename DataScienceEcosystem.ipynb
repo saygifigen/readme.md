{
 "cells": [
  {
   "cell_type": "markdown",
   "id": "d631f1fb-bd96-487c-ad5f-949d3d804f9e",
   "metadata": {},
   "source": [
    "# Data Science Tools and Ecosystem\n",
    "In this notebook, Data Science Tools and Ecosystem are summarized.\n",
    "\n",
    "**Objectives:**\n",
    "- List popular languages for Data Science\n",
    "- List commonly used libraries by Data Scientists\n",
    "- Describe development environments used in Data Science\n",
    "- Demonstrate simple arothmetic operations in Python\n",
    "- Convert time units (e.g., minutes to hours)"
   ]
  },
  {
   "cell_type": "markdown",
   "id": "a7ea9912-1fc9-4210-97b5-90b24aa85892",
   "metadata": {},
   "source": [
    "Some of the popular languages that Data Scientists use are:\n",
    "1. Python\n",
    "2. R\n",
    "3. SQL\n",
    "4. Julia\n",
    "5. Java"
   ]
  },
  {
   "cell_type": "markdown",
   "id": "3d931eac-5c8f-4699-8bb1-af2522bf580c",
   "metadata": {},
   "source": [
    "Some od the commonly used libraries used by Data Scientists include:\n",
    "1. NumPy\n",
    "2. Pandas\n",
    "3. Matplotlib\n",
    "4. Scikit-learn\n",
    "5. TensorFlow"
   ]
  },
  {
   "cell_type": "markdown",
   "id": "568f2a65-9b3d-43f4-a8f6-a729753b8a6d",
   "metadata": {},
   "source": [
    "| Data Science Tools |\n",
    "|--------------------|\n",
    "| Jupyter Notebook |\n",
    "| RStudio |\n",
    "| Apache Zeppelin |"
   ]
  },
  {
   "cell_type": "markdown",
   "id": "d94f5646-6bfd-49d8-9078-3993b1314ec4",
   "metadata": {},
   "source": [
    "### Below are a few example of evaluating arithmetic expressions in Python.\n"
   ]
  },
  {
   "cell_type": "code",
   "execution_count": 2,
   "id": "c19a2780-f234-4ddb-8c0b-7d1e5ee94fbb",
   "metadata": {},
   "outputs": [
    {
     "data": {
      "text/plain": [
       "17"
      ]
     },
     "execution_count": 2,
     "metadata": {},
     "output_type": "execute_result"
    }
   ],
   "source": [
    "# This is a simple arithmetic expression to multiply then add integers.\n",
    "(3*4)+5"
   ]
  },
  {
   "cell_type": "code",
   "execution_count": 3,
   "id": "0c23917f-416a-479f-83dc-35096e818a6b",
   "metadata": {},
   "outputs": [
    {
     "data": {
      "text/plain": [
       "3.3333333333333335"
      ]
     },
     "execution_count": 3,
     "metadata": {},
     "output_type": "execute_result"
    }
   ],
   "source": [
    "# This will convert 200 minutes to hours by dividing by 60.\n",
    "200 / 60"
   ]
  },
  {
   "cell_type": "markdown",
   "id": "7b6b06c1-dd82-4b20-97e4-1396cea3515c",
   "metadata": {},
   "source": [
    "## Author\n",
    "Figen Saygi"
   ]
  },
  {
   "cell_type": "code",
   "execution_count": null,
   "id": "32f210a4-595d-48a7-b86b-5e054075155f",
   "metadata": {},
   "outputs": [],
   "source": []
  }
 ],
 "metadata": {
  "kernelspec": {
   "display_name": "Python 3 (ipykernel)",
   "language": "python",
   "name": "python3"
  },
  "language_info": {
   "codemirror_mode": {
    "name": "ipython",
    "version": 3
   },
   "file_extension": ".py",
   "mimetype": "text/x-python",
   "name": "python",
   "nbconvert_exporter": "python",
   "pygments_lexer": "ipython3",
   "version": "3.12.3"
  }
 },
 "nbformat": 4,
 "nbformat_minor": 5
}
